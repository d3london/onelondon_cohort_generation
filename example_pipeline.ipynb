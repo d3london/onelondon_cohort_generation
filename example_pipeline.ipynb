{
 "cells": [
  {
   "cell_type": "code",
   "execution_count": 59,
   "metadata": {},
   "outputs": [],
   "source": [
    "import requests\n",
    "from scripts.auth import get_access_token\n",
    "from dotenv import load_dotenv"
   ]
  },
  {
   "cell_type": "code",
   "execution_count": 60,
   "metadata": {},
   "outputs": [
    {
     "name": "stdout",
     "output_type": "stream",
     "text": [
      "eyJhbGciOiJSUzI1NiIsInR5cCIgOiAiSldUIiwia2lkIiA6ICIxbmhFZE96Mm1WUTNfSXBUQS1BT0drWml1bDhOWTZaZU1iVGJWRkZhcUlNIn0.eyJleHAiOjE3MTg4ODIyOTksImlhdCI6MTcxODg4MDQ5OSwianRpIjoiNTZhZTI1YTQtZGZkYy00NGFmLWI4MjktMGRjN2VkOTk0ZWI5IiwiaXNzIjoiaHR0cHM6Ly9vbnRvbG9neS5vbmVsb25kb24ub25saW5lL2F1dGhvcmlzYXRpb24vYXV0aC9yZWFsbXMvdGVybWlub2xvZ3kiLCJhdWQiOiJodHRwczovL29udG9sb2d5Lm9uZWxvbmRvbi5vbmxpbmUvYXV0aG9yaW5nL2ZoaXIiLCJzdWIiOiJlN2FmNmMwNC0wZGFjLTQxODMtYmI1Ny1iYzNmM2IwMTYyNzUiLCJ0eXAiOiJCZWFyZXIiLCJhenAiOiJHU1RUX0paaGFuZ19BdXRob3IiLCJhY3IiOiIxIiwic2NvcGUiOiIiLCJjbGllbnRJZCI6IkdTVFRfSlpoYW5nX0F1dGhvciIsImNsaWVudEhvc3QiOiIxOTIuMTY4LjM3LjE1MyIsImNsaWVudEFkZHJlc3MiOiIxOTIuMTY4LjM3LjE1MyIsImF1dGhvcml0aWVzIjpbImh0dHBzOi8vb250b2xvZ3kub25lbG9uZG9uLm9ubGluZS9hdXRob3JpbmcvZmhpckZISVJfUkVBRCIsImh0dHBzOi8vb250b2xvZ3kub25lbG9uZG9uLm9ubGluZS9hdXRob3JpbmcvZmhpclNZTkRfUkVBRCIsIkNvbnN1bWVyIiwiUEVSTV9yZXN0cmljdGVkX1JFQUQiXX0.RWmdMPoIyvhrZPnExh7Sz0y0i5PtqrfNa-fJfrmu26JARr5X0iwhVFuaey81SiL3WbI-Yt8RoLvqf-C4PmlDvOmAxr9hx7efVJERha_q2fJNkiFCGITR8aP_Nv4Bk5aRsSJW3G_bXKEARAf8v3h_RmIuw_MkSmhP4SO5QGgZ6PHtzjYgQiVE5TrhGXryegWX5fsaDCIQPh0rANVWFeSPMxlocgAR654n9zKuhQfTDS18qL4roxMLozPfjF5cLDVF2ZKCJqfL_KPQNmnZ2zWDbGDsV3ggtg80Xzz-J2o4Nsqp1rwZoYM9qEk1BBjnsoILSKOEEAJ6VjF6cWzilGjztA\n"
     ]
    }
   ],
   "source": [
    "### CLIENT_ID and CLIENT_SECRET must be set locally in .env\n",
    "load_dotenv()\n",
    "\n",
    "### retrieve access token from OneLondon terminology server\n",
    "access_token = get_access_token()\n",
    "print(access_token)"
   ]
  },
  {
   "cell_type": "code",
   "execution_count": 73,
   "metadata": {},
   "outputs": [
    {
     "name": "stdout",
     "output_type": "stream",
     "text": [
      "Headers: {'Date': 'Thu, 20 Jun 2024 10:56:59 GMT', 'Content-Type': 'application/xml', 'Content-Length': '2717', 'Connection': 'keep-alive', 'Set-Cookie': 'AWSALB=5pzuolaDxbaA5uUi+NpwUuskHiupLrjLEmLF/SOM1lNyGwWEol7KMfPp2HUcazMtjIfzCjRr7VFJqD0y9h+sYWxGYSMex+8e7ZVUOmxfoYCxCZJb0IvJ+6mL32Tu; Expires=Thu, 27 Jun 2024 10:56:59 GMT; Path=/, AWSALBCORS=5pzuolaDxbaA5uUi+NpwUuskHiupLrjLEmLF/SOM1lNyGwWEol7KMfPp2HUcazMtjIfzCjRr7VFJqD0y9h+sYWxGYSMex+8e7ZVUOmxfoYCxCZJb0IvJ+6mL32Tu; Expires=Thu, 27 Jun 2024 10:56:59 GMT; Path=/; SameSite=None; Secure', 'Last-Modified': 'Sun, 26 Mar 2023 15:10:28 GMT', 'Accept-Ranges': 'bytes', 'ETag': '\"869da219f55fd91:0\"', 'Server': 'Microsoft-IIS/10.0', 'Access-Control-Allow-Origin': '*'}\n",
      "<?xml version=\"1.0\" encoding=\"UTF-8\"?>\n",
      "\n",
      "<ValueSet xmlns=\"http://hl7.org/fhir\">\n",
      "  <id value=\"procedure-code\"/>\n",
      "  <meta>\n",
      "    <lastUpdated value=\"2023-03-26T15:21:02.749+11:00\"/>\n",
      "    <profile value=\"http://hl7.org/fhir/StructureDefinition/shareablevalueset\"/>\n",
      "  </meta>\n",
      "  <text>\n",
      "    <status value=\"generated\"/>\n",
      "    <div xmlns=\"http://www.w3.org/1999/xhtml\">\n",
      "      <ul>\n",
      "        <li>Include codes from \n",
      "          <a href=\"http://www.snomed.org/\">\n",
      "            <code>http://snomed.info/sct</code>\n",
      "          </a> where concept  is-a  71388002 (Procedure)\n",
      "        </li>\n",
      "      </ul>\n",
      "    </div>\n",
      "  </text>\n",
      "  <extension url=\"http://hl7.org/fhir/StructureDefinition/structuredefinition-wg\">\n",
      "    <valueCode value=\"pc\"/>\n",
      "  </extension>\n",
      "  <extension url=\"http://hl7.org/fhir/StructureDefinition/structuredefinition-standards-status\">\n",
      "    <valueCode value=\"draft\"/>\n",
      "  </extension>\n",
      "  <extension url=\"http://hl7.org/fhir/StructureDefinition/structuredefinition-fmm\">\n",
      "    <valueInteger value=\"1\"/>\n",
      "  </extension>\n",
      "  <url value=\"http://hl7.org/fhir/ValueSet/procedure-code\"/>\n",
      "  <identifier>\n",
      "    <system value=\"urn:ietf:rfc:3986\"/>\n",
      "    <value value=\"urn:oid:2.16.840.1.113883.4.642.3.427\"/>\n",
      "  </identifier>\n",
      "  <identifier>\n",
      "    <use value=\"old\"/>\n",
      "    <system value=\"urn:ietf:rfc:3986\"/>\n",
      "    <value value=\"urn:oid:2.16.840.1.113883.4.642.3.418\"/>\n",
      "  </identifier>\n",
      "  <identifier>\n",
      "    <use value=\"old\"/>\n",
      "    <system value=\"urn:ietf:rfc:3986\"/>\n",
      "    <value value=\"urn:oid:2.16.840.1.113883.4.642.2.417\"/>\n",
      "  </identifier>\n",
      "  <version value=\"5.0.0\"/>\n",
      "  <name value=\"ProcedureCodesSNOMEDCT\"/>\n",
      "  <title value=\"Procedure Codes (SNOMED CT)\"/>\n",
      "  <status value=\"draft\"/>\n",
      "  <experimental value=\"true\"/>\n",
      "  <publisher value=\"FHIR Project team\"/>\n",
      "  <contact>\n",
      "    <telecom>\n",
      "      <system value=\"url\"/>\n",
      "      <value value=\"http://hl7.org/fhir\"/>\n",
      "    </telecom>\n",
      "  </contact>\n",
      "  <description value=\"Procedure Code: All SNOMED CT procedure codes.\"/>\n",
      "  <jurisdiction>\n",
      "    <coding>\n",
      "      <system value=\"http://unstats.un.org/unsd/methods/m49/m49.htm\"/>\n",
      "      <code value=\"001\"/>\n",
      "      <display value=\"World\"/>\n",
      "    </coding>\n",
      "  </jurisdiction>\n",
      "  <copyright value=\"This resource includes content from SNOMED Clinical Terms® (SNOMED CT®) which is copyright of the International Health Terminology Standards Development Organisation (IHTSDO). Implementers of these specifications must have the appropriate SNOMED CT Affiliate license - for more information contact http://www.snomed.org/snomed-ct/get-snomed-ct or info@snomed.org\"/>\n",
      "  <compose>\n",
      "    <include>\n",
      "      <system value=\"http://snomed.info/sct\"/>\n",
      "      <filter>\n",
      "        <property value=\"concept\"/>\n",
      "        <op value=\"is-a\"/>\n",
      "        <value value=\"71388002\"/>\n",
      "      </filter>\n",
      "    </include>\n",
      "  </compose>\n",
      "</ValueSet>\n"
     ]
    }
   ],
   "source": [
    "### retrieve a value set\n",
    "\n",
    "#url = 'https://ontology.onelondon.online/authoring/fhir/...'\n",
    "\n",
    "url = \"http://hl7.org/fhir/ValueSet/procedure-code\"\n",
    "\n",
    "headers = {\n",
    "    \"Authorization\": f\"Bearer {access_token}\",\n",
    "}\n",
    "\n",
    "response = requests.get(url, headers=headers)\n",
    "print(\"Headers:\", response.headers)\n",
    "print(response.content.decode('UTF-8'))\n"
   ]
  }
 ],
 "metadata": {
  "kernelspec": {
   "display_name": "stats",
   "language": "python",
   "name": "python3"
  },
  "language_info": {
   "codemirror_mode": {
    "name": "ipython",
    "version": 3
   },
   "file_extension": ".py",
   "mimetype": "text/x-python",
   "name": "python",
   "nbconvert_exporter": "python",
   "pygments_lexer": "ipython3",
   "version": "3.11.2"
  }
 },
 "nbformat": 4,
 "nbformat_minor": 2
}
