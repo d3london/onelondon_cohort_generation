{
 "cells": [
  {
   "cell_type": "code",
   "execution_count": 1,
   "metadata": {},
   "outputs": [],
   "source": [
    "import os\n",
    "import requests\n",
    "import json\n",
    "from scripts.onto import FHIRTerminologyClient\n",
    "from dotenv import load_dotenv\n",
    "from tqdm import tqdm"
   ]
  },
  {
   "cell_type": "markdown",
   "metadata": {},
   "source": [
    "### Example: retrieval of all reference sets and codesets from a monolith into a table\n",
    "\n",
    "Using a test UK SNOMED monolith"
   ]
  },
  {
   "cell_type": "code",
   "execution_count": 2,
   "metadata": {},
   "outputs": [],
   "source": [
    "# loads CLIENT_ID and CLIENT_SECRET that are set locally in .env, and initialises FHIR client\n",
    "\n",
    "load_dotenv() \n",
    "fhir_client = FHIRTerminologyClient(endpoint_type='authoring') "
   ]
  },
  {
   "cell_type": "code",
   "execution_count": 3,
   "metadata": {},
   "outputs": [
    {
     "name": "stdout",
     "output_type": "stream",
     "text": [
      "Failed to retrieve value set: 422 - {\"resourceType\":\"OperationOutcome\",\"issue\":[{\"severity\":\"error\",\"code\":\"too-costly\",\"details\":{\"text\":\"[bbb3fa21-28ca-41e8-aa46-afad2d33ca4e]: The expansion of value set http://snomed.info/xsct/999000011000230102/version/20230705?fhir_vs=refset/30931000001101 was too big (>50000).\"},\"diagnostics\":\"[bbb3fa21-28ca-41e8-aa46-afad2d33ca4e]: The expansion of value set http://snomed.info/xsct/999000011000230102/version/20230705?fhir_vs=refset/30931000001101 was too big (>50000).\"}]}\n",
      "Failed to retrieve value set: 422 - {\"resourceType\":\"OperationOutcome\",\"issue\":[{\"severity\":\"error\",\"code\":\"too-costly\",\"details\":{\"text\":\"[b27670c6-6be1-4159-aa0c-0edc53fc5c6d]: The expansion of value set http://snomed.info/xsct/999000011000230102/version/20230705?fhir_vs=refset/900000000000489007 was too big (>50000).\"},\"diagnostics\":\"[b27670c6-6be1-4159-aa0c-0edc53fc5c6d]: The expansion of value set http://snomed.info/xsct/999000011000230102/version/20230705?fhir_vs=refset/900000000000489007 was too big (>50000).\"}]}\n",
      "Failed to retrieve value set: 422 - {\"resourceType\":\"OperationOutcome\",\"issue\":[{\"severity\":\"error\",\"code\":\"too-costly\",\"details\":{\"text\":\"[9cd69be5-1d9a-4ff5-870d-13081e8abb02]: The expansion of value set http://snomed.info/xsct/999000011000230102/version/20230705?fhir_vs=refset/900000000000497000 was too big (>50000).\"},\"diagnostics\":\"[9cd69be5-1d9a-4ff5-870d-13081e8abb02]: The expansion of value set http://snomed.info/xsct/999000011000230102/version/20230705?fhir_vs=refset/900000000000497000 was too big (>50000).\"}]}\n",
      "Failed to retrieve value set: 422 - {\"resourceType\":\"OperationOutcome\",\"issue\":[{\"severity\":\"error\",\"code\":\"too-costly\",\"details\":{\"text\":\"[24c3eb84-66ca-46c1-b525-f8ec6f64792b]: The expansion of value set http://snomed.info/xsct/999000011000230102/version/20230705?fhir_vs=refset/999000401000000107 was too big (>50000).\"},\"diagnostics\":\"[24c3eb84-66ca-46c1-b525-f8ec6f64792b]: The expansion of value set http://snomed.info/xsct/999000011000230102/version/20230705?fhir_vs=refset/999000401000000107 was too big (>50000).\"}]}\n",
      "Failed to retrieve value set: 422 - {\"resourceType\":\"OperationOutcome\",\"issue\":[{\"severity\":\"error\",\"code\":\"too-costly\",\"details\":{\"text\":\"[913c8eaf-5a58-4273-9485-0aaaa6d874df]: The expansion of value set http://snomed.info/xsct/999000011000230102/version/20230705?fhir_vs=refset/1382531000000102 was too big (>50000).\"},\"diagnostics\":\"[913c8eaf-5a58-4273-9485-0aaaa6d874df]: The expansion of value set http://snomed.info/xsct/999000011000230102/version/20230705?fhir_vs=refset/1382531000000102 was too big (>50000).\"}]}\n",
      "Failed to retrieve value set: 422 - {\"resourceType\":\"OperationOutcome\",\"issue\":[{\"severity\":\"error\",\"code\":\"too-costly\",\"details\":{\"text\":\"[c1376cf9-7987-43b6-82d7-3d1db9f65ec4]: The expansion of value set http://snomed.info/xsct/999000011000230102/version/20230705?fhir_vs=refset/1127581000000103 was too big (>50000).\"},\"diagnostics\":\"[c1376cf9-7987-43b6-82d7-3d1db9f65ec4]: The expansion of value set http://snomed.info/xsct/999000011000230102/version/20230705?fhir_vs=refset/1127581000000103 was too big (>50000).\"}]}\n",
      "Failed to retrieve value set: 422 - {\"resourceType\":\"OperationOutcome\",\"issue\":[{\"severity\":\"error\",\"code\":\"too-costly\",\"details\":{\"text\":\"[67f24d1d-a2ae-4d74-8e08-ea54fc5b9b1d]: The expansion of value set http://snomed.info/xsct/999000011000230102/version/20230705?fhir_vs=refset/1127601000000107 was too big (>50000).\"},\"diagnostics\":\"[67f24d1d-a2ae-4d74-8e08-ea54fc5b9b1d]: The expansion of value set http://snomed.info/xsct/999000011000230102/version/20230705?fhir_vs=refset/1127601000000107 was too big (>50000).\"}]}\n",
      "Failed to retrieve value set: 422 - {\"resourceType\":\"OperationOutcome\",\"issue\":[{\"severity\":\"error\",\"code\":\"too-costly\",\"details\":{\"text\":\"[6bd802cf-9cf1-461d-aa5a-19611d125ed9]: The expansion of value set http://snomed.info/xsct/999000011000230102/version/20230705?fhir_vs=refset/999002271000000101 was too big (>50000).\"},\"diagnostics\":\"[6bd802cf-9cf1-461d-aa5a-19611d125ed9]: The expansion of value set http://snomed.info/xsct/999000011000230102/version/20230705?fhir_vs=refset/999002271000000101 was too big (>50000).\"}]}\n",
      "Failed to retrieve value set: 422 - {\"resourceType\":\"OperationOutcome\",\"issue\":[{\"severity\":\"error\",\"code\":\"too-costly\",\"details\":{\"text\":\"[06615444-0cef-4802-a710-a135543fb297]: The expansion of value set http://snomed.info/xsct/999000011000230102/version/20230705?fhir_vs=refset/999000031000001105 was too big (>50000).\"},\"diagnostics\":\"[06615444-0cef-4802-a710-a135543fb297]: The expansion of value set http://snomed.info/xsct/999000011000230102/version/20230705?fhir_vs=refset/999000031000001105 was too big (>50000).\"}]}\n",
      "Failed to retrieve value set: 422 - {\"resourceType\":\"OperationOutcome\",\"issue\":[{\"severity\":\"error\",\"code\":\"too-costly\",\"details\":{\"text\":\"[cd61a9a1-250b-43bb-a5b0-0f3e2563d553]: The expansion of value set http://snomed.info/xsct/999000011000230102/version/20230705?fhir_vs=refset/999000551000001106 was too big (>50000).\"},\"diagnostics\":\"[cd61a9a1-250b-43bb-a5b0-0f3e2563d553]: The expansion of value set http://snomed.info/xsct/999000011000230102/version/20230705?fhir_vs=refset/999000551000001106 was too big (>50000).\"}]}\n",
      "Failed to retrieve value set: 422 - {\"resourceType\":\"OperationOutcome\",\"issue\":[{\"severity\":\"error\",\"code\":\"too-costly\",\"details\":{\"text\":\"[404f09e5-7f4b-49e7-937c-01b0181eb391]: The expansion of value set http://snomed.info/xsct/999000011000230102/version/20230705?fhir_vs=refset/999000541000001108 was too big (>50000).\"},\"diagnostics\":\"[404f09e5-7f4b-49e7-937c-01b0181eb391]: The expansion of value set http://snomed.info/xsct/999000011000230102/version/20230705?fhir_vs=refset/999000541000001108 was too big (>50000).\"}]}\n",
      "Failed to retrieve value set: 422 - {\"resourceType\":\"OperationOutcome\",\"issue\":[{\"severity\":\"error\",\"code\":\"too-costly\",\"details\":{\"text\":\"[d793e3aa-4224-442e-ad0d-dbde357d56c7]: The expansion of value set http://snomed.info/xsct/999000011000230102/version/20230705?fhir_vs=refset/1322291000000109 was too big (>50000).\"},\"diagnostics\":\"[d793e3aa-4224-442e-ad0d-dbde357d56c7]: The expansion of value set http://snomed.info/xsct/999000011000230102/version/20230705?fhir_vs=refset/1322291000000109 was too big (>50000).\"}]}\n",
      "Failed to retrieve value set: 422 - {\"resourceType\":\"OperationOutcome\",\"issue\":[{\"severity\":\"error\",\"code\":\"too-costly\",\"details\":{\"text\":\"[655c9ccf-801d-429f-9a46-01de2637f3b4]: The expansion of value set http://snomed.info/xsct/999000011000230102/version/20230705?fhir_vs=refset/1126441000000105 was too big (>50000).\"},\"diagnostics\":\"[655c9ccf-801d-429f-9a46-01de2637f3b4]: The expansion of value set http://snomed.info/xsct/999000011000230102/version/20230705?fhir_vs=refset/1126441000000105 was too big (>50000).\"}]}\n",
      "Failed to retrieve value set: 422 - {\"resourceType\":\"OperationOutcome\",\"issue\":[{\"severity\":\"error\",\"code\":\"too-costly\",\"details\":{\"text\":\"[effa6903-7ff6-4af4-ab60-cc8251f086c7]: The expansion of value set http://snomed.info/xsct/999000011000230102/version/20230705?fhir_vs=refset/900000000000527005 was too big (>50000).\"},\"diagnostics\":\"[effa6903-7ff6-4af4-ab60-cc8251f086c7]: The expansion of value set http://snomed.info/xsct/999000011000230102/version/20230705?fhir_vs=refset/900000000000527005 was too big (>50000).\"}]}\n"
     ]
    }
   ],
   "source": [
    "url = 'http://snomed.info/xsct/999000011000230102/version/20230705?fhir_vs=refset'\n",
    "\n",
    "refsets = fhir_client.retrieve_refsets_from_megalith(url) #dataframe"
   ]
  },
  {
   "cell_type": "code",
   "execution_count": 5,
   "metadata": {},
   "outputs": [
    {
     "data": {
      "text/html": [
       "<div>\n",
       "<style scoped>\n",
       "    .dataframe tbody tr th:only-of-type {\n",
       "        vertical-align: middle;\n",
       "    }\n",
       "\n",
       "    .dataframe tbody tr th {\n",
       "        vertical-align: top;\n",
       "    }\n",
       "\n",
       "    .dataframe thead th {\n",
       "        text-align: right;\n",
       "    }\n",
       "</style>\n",
       "<table border=\"1\" class=\"dataframe\">\n",
       "  <thead>\n",
       "    <tr style=\"text-align: right;\">\n",
       "      <th></th>\n",
       "      <th>name</th>\n",
       "      <th>refset</th>\n",
       "      <th>code</th>\n",
       "    </tr>\n",
       "  </thead>\n",
       "  <tbody>\n",
       "    <tr>\n",
       "      <th>0</th>\n",
       "      <td>Accessible information - communication support...</td>\n",
       "      <td>999002121000000109</td>\n",
       "      <td>441092009</td>\n",
       "    </tr>\n",
       "    <tr>\n",
       "      <th>1</th>\n",
       "      <td>Accessible information - communication support...</td>\n",
       "      <td>999002121000000109</td>\n",
       "      <td>285055002</td>\n",
       "    </tr>\n",
       "    <tr>\n",
       "      <th>2</th>\n",
       "      <td>Accessible information - communication support...</td>\n",
       "      <td>999002121000000109</td>\n",
       "      <td>520471000000105</td>\n",
       "    </tr>\n",
       "    <tr>\n",
       "      <th>3</th>\n",
       "      <td>Accessible information - communication support...</td>\n",
       "      <td>999002121000000109</td>\n",
       "      <td>520491000000109</td>\n",
       "    </tr>\n",
       "    <tr>\n",
       "      <th>4</th>\n",
       "      <td>Accessible information - communication support...</td>\n",
       "      <td>999002121000000109</td>\n",
       "      <td>1082671000000100</td>\n",
       "    </tr>\n",
       "    <tr>\n",
       "      <th>...</th>\n",
       "      <td>...</td>\n",
       "      <td>...</td>\n",
       "      <td>...</td>\n",
       "    </tr>\n",
       "    <tr>\n",
       "      <th>641320</th>\n",
       "      <td>Wound integrity findings simple reference set</td>\n",
       "      <td>999002531000000101</td>\n",
       "      <td>1149259003</td>\n",
       "    </tr>\n",
       "    <tr>\n",
       "      <th>641321</th>\n",
       "      <td>Wound integrity findings simple reference set</td>\n",
       "      <td>999002531000000101</td>\n",
       "      <td>609339001</td>\n",
       "    </tr>\n",
       "    <tr>\n",
       "      <th>641322</th>\n",
       "      <td>Wound integrity findings simple reference set</td>\n",
       "      <td>999002531000000101</td>\n",
       "      <td>781193006</td>\n",
       "    </tr>\n",
       "    <tr>\n",
       "      <th>641323</th>\n",
       "      <td>Wound integrity findings simple reference set</td>\n",
       "      <td>999002531000000101</td>\n",
       "      <td>781195004</td>\n",
       "    </tr>\n",
       "    <tr>\n",
       "      <th>641324</th>\n",
       "      <td>Wound integrity findings simple reference set</td>\n",
       "      <td>999002531000000101</td>\n",
       "      <td>418291005</td>\n",
       "    </tr>\n",
       "  </tbody>\n",
       "</table>\n",
       "<p>641325 rows × 3 columns</p>\n",
       "</div>"
      ],
      "text/plain": [
       "                                                     name              refset  \\\n",
       "0       Accessible information - communication support...  999002121000000109   \n",
       "1       Accessible information - communication support...  999002121000000109   \n",
       "2       Accessible information - communication support...  999002121000000109   \n",
       "3       Accessible information - communication support...  999002121000000109   \n",
       "4       Accessible information - communication support...  999002121000000109   \n",
       "...                                                   ...                 ...   \n",
       "641320      Wound integrity findings simple reference set  999002531000000101   \n",
       "641321      Wound integrity findings simple reference set  999002531000000101   \n",
       "641322      Wound integrity findings simple reference set  999002531000000101   \n",
       "641323      Wound integrity findings simple reference set  999002531000000101   \n",
       "641324      Wound integrity findings simple reference set  999002531000000101   \n",
       "\n",
       "                    code  \n",
       "0              441092009  \n",
       "1              285055002  \n",
       "2        520471000000105  \n",
       "3        520491000000109  \n",
       "4       1082671000000100  \n",
       "...                  ...  \n",
       "641320        1149259003  \n",
       "641321         609339001  \n",
       "641322         781193006  \n",
       "641323         781195004  \n",
       "641324         418291005  \n",
       "\n",
       "[641325 rows x 3 columns]"
      ]
     },
     "metadata": {},
     "output_type": "display_data"
    }
   ],
   "source": [
    "display(refsets)\n",
    "\n",
    "refsets.to_csv('monolith_refsets_example.csv')"
   ]
  }
 ],
 "metadata": {
  "kernelspec": {
   "display_name": "stats",
   "language": "python",
   "name": "python3"
  },
  "language_info": {
   "codemirror_mode": {
    "name": "ipython",
    "version": 3
   },
   "file_extension": ".py",
   "mimetype": "text/x-python",
   "name": "python",
   "nbconvert_exporter": "python",
   "pygments_lexer": "ipython3",
   "version": "3.11.2"
  }
 },
 "nbformat": 4,
 "nbformat_minor": 2
}
