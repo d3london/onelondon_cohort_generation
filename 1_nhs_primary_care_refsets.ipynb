{
 "cells": [
  {
   "cell_type": "code",
   "execution_count": 10,
   "metadata": {},
   "outputs": [],
   "source": [
    "import os\n",
    "import requests\n",
    "import json\n",
    "from scripts.onto import FHIRTerminologyClient\n",
    "from dotenv import load_dotenv\n",
    "from tqdm import tqdm"
   ]
  },
  {
   "cell_type": "code",
   "execution_count": 11,
   "metadata": {},
   "outputs": [],
   "source": [
    "# loads CLIENT_ID and CLIENT_SECRET that are set locally in .env, and initialises FHIR client\n",
    "\n",
    "load_dotenv() \n",
    "fhir_client = FHIRTerminologyClient(endpoint_type='authoring') "
   ]
  },
  {
   "cell_type": "code",
   "execution_count": 12,
   "metadata": {},
   "outputs": [],
   "source": [
    "url = 'http://snomed.info/xsct/999000011000230102/version/20230705?fhir_vs=refset'\n",
    "\n",
    "refsets = fhir_client.retrieve_refsets_from_megalith(url) #dataframe"
   ]
  },
  {
   "cell_type": "code",
   "execution_count": 13,
   "metadata": {},
   "outputs": [
    {
     "name": "stderr",
     "output_type": "stream",
     "text": [
      "  2%|▏         | 25/1445 [00:05<10:19,  2.29it/s]"
     ]
    },
    {
     "name": "stdout",
     "output_type": "stream",
     "text": [
      "Failed to retrieve value set: 422 - {\"resourceType\":\"OperationOutcome\",\"issue\":[{\"severity\":\"error\",\"code\":\"too-costly\",\"details\":{\"text\":\"[ea9eee7e-e049-4f4e-9d67-bd20cd7be24d]: The expansion of value set http://snomed.info/xsct/999000011000230102/version/20230705?fhir_vs=refset/30931000001101 was too big (>50000).\"},\"diagnostics\":\"[ea9eee7e-e049-4f4e-9d67-bd20cd7be24d]: The expansion of value set http://snomed.info/xsct/999000011000230102/version/20230705?fhir_vs=refset/30931000001101 was too big (>50000).\"}]}\n"
     ]
    },
    {
     "name": "stderr",
     "output_type": "stream",
     "text": [
      "  7%|▋         | 98/1445 [00:19<12:14,  1.83it/s]"
     ]
    },
    {
     "name": "stdout",
     "output_type": "stream",
     "text": [
      "Failed to retrieve value set: 422 - {\"resourceType\":\"OperationOutcome\",\"issue\":[{\"severity\":\"error\",\"code\":\"too-costly\",\"details\":{\"text\":\"[f75e1cb1-80f8-4d2d-8835-76ed90f31765]: The expansion of value set http://snomed.info/xsct/999000011000230102/version/20230705?fhir_vs=refset/900000000000489007 was too big (>50000).\"},\"diagnostics\":\"[f75e1cb1-80f8-4d2d-8835-76ed90f31765]: The expansion of value set http://snomed.info/xsct/999000011000230102/version/20230705?fhir_vs=refset/900000000000489007 was too big (>50000).\"}]}\n"
     ]
    },
    {
     "name": "stderr",
     "output_type": "stream",
     "text": [
      "  8%|▊         | 116/1445 [00:25<19:22,  1.14it/s]"
     ]
    },
    {
     "name": "stdout",
     "output_type": "stream",
     "text": [
      "Failed to retrieve value set: 422 - {\"resourceType\":\"OperationOutcome\",\"issue\":[{\"severity\":\"error\",\"code\":\"too-costly\",\"details\":{\"text\":\"[0b3bc422-89ef-44e8-b23f-d66e2d443c2e]: The expansion of value set http://snomed.info/xsct/999000011000230102/version/20230705?fhir_vs=refset/900000000000497000 was too big (>50000).\"},\"diagnostics\":\"[0b3bc422-89ef-44e8-b23f-d66e2d443c2e]: The expansion of value set http://snomed.info/xsct/999000011000230102/version/20230705?fhir_vs=refset/900000000000497000 was too big (>50000).\"}]}\n"
     ]
    },
    {
     "name": "stderr",
     "output_type": "stream",
     "text": [
      "  9%|▉         | 129/1445 [00:38<29:27,  1.34s/it]  "
     ]
    },
    {
     "name": "stdout",
     "output_type": "stream",
     "text": [
      "Failed to retrieve value set: 422 - {\"resourceType\":\"OperationOutcome\",\"issue\":[{\"severity\":\"error\",\"code\":\"too-costly\",\"details\":{\"text\":\"[89ad2189-eea2-480d-af61-ec451f33fba2]: The expansion of value set http://snomed.info/xsct/999000011000230102/version/20230705?fhir_vs=refset/999000401000000107 was too big (>50000).\"},\"diagnostics\":\"[89ad2189-eea2-480d-af61-ec451f33fba2]: The expansion of value set http://snomed.info/xsct/999000011000230102/version/20230705?fhir_vs=refset/999000401000000107 was too big (>50000).\"}]}\n"
     ]
    },
    {
     "name": "stderr",
     "output_type": "stream",
     "text": [
      " 10%|█         | 145/1445 [00:41<04:55,  4.40it/s]"
     ]
    },
    {
     "name": "stdout",
     "output_type": "stream",
     "text": [
      "Failed to retrieve value set: 422 - {\"resourceType\":\"OperationOutcome\",\"issue\":[{\"severity\":\"error\",\"code\":\"too-costly\",\"details\":{\"text\":\"[c08a9ecc-b92a-4584-b20a-db456529f02d]: The expansion of value set http://snomed.info/xsct/999000011000230102/version/20230705?fhir_vs=refset/1382531000000102 was too big (>50000).\"},\"diagnostics\":\"[c08a9ecc-b92a-4584-b20a-db456529f02d]: The expansion of value set http://snomed.info/xsct/999000011000230102/version/20230705?fhir_vs=refset/1382531000000102 was too big (>50000).\"}]}\n"
     ]
    },
    {
     "name": "stderr",
     "output_type": "stream",
     "text": [
      " 19%|█▊        | 269/1445 [01:20<07:28,  2.62it/s]  "
     ]
    },
    {
     "name": "stdout",
     "output_type": "stream",
     "text": [
      "Failed to retrieve value set: 422 - {\"resourceType\":\"OperationOutcome\",\"issue\":[{\"severity\":\"error\",\"code\":\"too-costly\",\"details\":{\"text\":\"[aafd92ad-c0e9-41ec-ae99-95e859c16e0c]: The expansion of value set http://snomed.info/xsct/999000011000230102/version/20230705?fhir_vs=refset/1127581000000103 was too big (>50000).\"},\"diagnostics\":\"[aafd92ad-c0e9-41ec-ae99-95e859c16e0c]: The expansion of value set http://snomed.info/xsct/999000011000230102/version/20230705?fhir_vs=refset/1127581000000103 was too big (>50000).\"}]}\n"
     ]
    },
    {
     "name": "stderr",
     "output_type": "stream",
     "text": [
      " 19%|█▉        | 272/1445 [01:21<07:20,  2.66it/s]"
     ]
    },
    {
     "name": "stdout",
     "output_type": "stream",
     "text": [
      "Failed to retrieve value set: 422 - {\"resourceType\":\"OperationOutcome\",\"issue\":[{\"severity\":\"error\",\"code\":\"too-costly\",\"details\":{\"text\":\"[5970fd67-fe31-4fcf-a888-13ff44d911fd]: The expansion of value set http://snomed.info/xsct/999000011000230102/version/20230705?fhir_vs=refset/1127601000000107 was too big (>50000).\"},\"diagnostics\":\"[5970fd67-fe31-4fcf-a888-13ff44d911fd]: The expansion of value set http://snomed.info/xsct/999000011000230102/version/20230705?fhir_vs=refset/1127601000000107 was too big (>50000).\"}]}\n"
     ]
    },
    {
     "name": "stderr",
     "output_type": "stream",
     "text": [
      " 20%|█▉        | 285/1445 [01:26<06:15,  3.09it/s]"
     ]
    },
    {
     "name": "stdout",
     "output_type": "stream",
     "text": [
      "Failed to retrieve value set: 422 - {\"resourceType\":\"OperationOutcome\",\"issue\":[{\"severity\":\"error\",\"code\":\"too-costly\",\"details\":{\"text\":\"[06827b98-6286-4732-91ec-bf8b317be873]: The expansion of value set http://snomed.info/xsct/999000011000230102/version/20230705?fhir_vs=refset/999002271000000101 was too big (>50000).\"},\"diagnostics\":\"[06827b98-6286-4732-91ec-bf8b317be873]: The expansion of value set http://snomed.info/xsct/999000011000230102/version/20230705?fhir_vs=refset/999002271000000101 was too big (>50000).\"}]}\n"
     ]
    },
    {
     "name": "stderr",
     "output_type": "stream",
     "text": [
      " 21%|██        | 300/1445 [01:32<13:13,  1.44it/s]"
     ]
    },
    {
     "name": "stdout",
     "output_type": "stream",
     "text": [
      "Failed to retrieve value set: 422 - {\"resourceType\":\"OperationOutcome\",\"issue\":[{\"severity\":\"error\",\"code\":\"too-costly\",\"details\":{\"text\":\"[47e73584-81aa-4237-b113-6a663bfb0cc4]: The expansion of value set http://snomed.info/xsct/999000011000230102/version/20230705?fhir_vs=refset/999000031000001105 was too big (>50000).\"},\"diagnostics\":\"[47e73584-81aa-4237-b113-6a663bfb0cc4]: The expansion of value set http://snomed.info/xsct/999000011000230102/version/20230705?fhir_vs=refset/999000031000001105 was too big (>50000).\"}]}\n"
     ]
    },
    {
     "name": "stderr",
     "output_type": "stream",
     "text": [
      " 23%|██▎       | 329/1445 [01:42<08:56,  2.08it/s]"
     ]
    },
    {
     "name": "stdout",
     "output_type": "stream",
     "text": [
      "Failed to retrieve value set: 422 - {\"resourceType\":\"OperationOutcome\",\"issue\":[{\"severity\":\"error\",\"code\":\"too-costly\",\"details\":{\"text\":\"[c36c1f47-0925-47ee-8971-f996489d757f]: The expansion of value set http://snomed.info/xsct/999000011000230102/version/20230705?fhir_vs=refset/999000551000001106 was too big (>50000).\"},\"diagnostics\":\"[c36c1f47-0925-47ee-8971-f996489d757f]: The expansion of value set http://snomed.info/xsct/999000011000230102/version/20230705?fhir_vs=refset/999000551000001106 was too big (>50000).\"}]}\n"
     ]
    },
    {
     "name": "stderr",
     "output_type": "stream",
     "text": [
      " 23%|██▎       | 331/1445 [01:43<09:14,  2.01it/s]"
     ]
    },
    {
     "name": "stdout",
     "output_type": "stream",
     "text": [
      "Failed to retrieve value set: 422 - {\"resourceType\":\"OperationOutcome\",\"issue\":[{\"severity\":\"error\",\"code\":\"too-costly\",\"details\":{\"text\":\"[2e7dfe1e-7639-4a57-8fea-96ae2db01df9]: The expansion of value set http://snomed.info/xsct/999000011000230102/version/20230705?fhir_vs=refset/999000541000001108 was too big (>50000).\"},\"diagnostics\":\"[2e7dfe1e-7639-4a57-8fea-96ae2db01df9]: The expansion of value set http://snomed.info/xsct/999000011000230102/version/20230705?fhir_vs=refset/999000541000001108 was too big (>50000).\"}]}\n"
     ]
    },
    {
     "name": "stderr",
     "output_type": "stream",
     "text": [
      " 26%|██▌       | 378/1445 [02:15<36:38,  2.06s/it]  "
     ]
    },
    {
     "name": "stdout",
     "output_type": "stream",
     "text": [
      "Failed to retrieve value set: 422 - {\"resourceType\":\"OperationOutcome\",\"issue\":[{\"severity\":\"error\",\"code\":\"too-costly\",\"details\":{\"text\":\"[ede8403f-93ad-4aee-be10-ad7947715b62]: The expansion of value set http://snomed.info/xsct/999000011000230102/version/20230705?fhir_vs=refset/1322291000000109 was too big (>50000).\"},\"diagnostics\":\"[ede8403f-93ad-4aee-be10-ad7947715b62]: The expansion of value set http://snomed.info/xsct/999000011000230102/version/20230705?fhir_vs=refset/1322291000000109 was too big (>50000).\"}]}\n"
     ]
    },
    {
     "name": "stderr",
     "output_type": "stream",
     "text": [
      " 28%|██▊       | 411/1445 [02:37<14:00,  1.23it/s]  "
     ]
    },
    {
     "name": "stdout",
     "output_type": "stream",
     "text": [
      "Failed to retrieve value set: 422 - {\"resourceType\":\"OperationOutcome\",\"issue\":[{\"severity\":\"error\",\"code\":\"too-costly\",\"details\":{\"text\":\"[16d05e6b-6bb2-47cc-b5cb-8fe8f7b556fa]: The expansion of value set http://snomed.info/xsct/999000011000230102/version/20230705?fhir_vs=refset/1126441000000105 was too big (>50000).\"},\"diagnostics\":\"[16d05e6b-6bb2-47cc-b5cb-8fe8f7b556fa]: The expansion of value set http://snomed.info/xsct/999000011000230102/version/20230705?fhir_vs=refset/1126441000000105 was too big (>50000).\"}]}\n"
     ]
    },
    {
     "name": "stderr",
     "output_type": "stream",
     "text": [
      " 34%|███▍      | 492/1445 [02:56<04:54,  3.23it/s]"
     ]
    },
    {
     "name": "stdout",
     "output_type": "stream",
     "text": [
      "Failed to retrieve value set: 422 - {\"resourceType\":\"OperationOutcome\",\"issue\":[{\"severity\":\"error\",\"code\":\"too-costly\",\"details\":{\"text\":\"[1f08f952-585b-473b-a20f-a4771af4d0dc]: The expansion of value set http://snomed.info/xsct/999000011000230102/version/20230705?fhir_vs=refset/900000000000527005 was too big (>50000).\"},\"diagnostics\":\"[1f08f952-585b-473b-a20f-a4771af4d0dc]: The expansion of value set http://snomed.info/xsct/999000011000230102/version/20230705?fhir_vs=refset/900000000000527005 was too big (>50000).\"}]}\n"
     ]
    },
    {
     "name": "stderr",
     "output_type": "stream",
     "text": [
      "100%|██████████| 1445/1445 [05:56<00:00,  4.05it/s]\n"
     ]
    },
    {
     "data": {
      "text/html": [
       "<div>\n",
       "<style scoped>\n",
       "    .dataframe tbody tr th:only-of-type {\n",
       "        vertical-align: middle;\n",
       "    }\n",
       "\n",
       "    .dataframe tbody tr th {\n",
       "        vertical-align: top;\n",
       "    }\n",
       "\n",
       "    .dataframe thead th {\n",
       "        text-align: right;\n",
       "    }\n",
       "</style>\n",
       "<table border=\"1\" class=\"dataframe\">\n",
       "  <thead>\n",
       "    <tr style=\"text-align: right;\">\n",
       "      <th></th>\n",
       "      <th>display_list</th>\n",
       "      <th>ref_list</th>\n",
       "      <th>codes</th>\n",
       "    </tr>\n",
       "  </thead>\n",
       "  <tbody>\n",
       "    <tr>\n",
       "      <th>0</th>\n",
       "      <td>Accessible information - communication support...</td>\n",
       "      <td>999002121000000109</td>\n",
       "      <td>[441092009, 285055002, 520471000000105, 520491...</td>\n",
       "    </tr>\n",
       "    <tr>\n",
       "      <th>1</th>\n",
       "      <td>Accessible information - requires communicatio...</td>\n",
       "      <td>999002151000000104</td>\n",
       "      <td>[204331000000107, 945731000000104, 20434100000...</td>\n",
       "    </tr>\n",
       "    <tr>\n",
       "      <th>2</th>\n",
       "      <td>Accessible information - requires specific con...</td>\n",
       "      <td>999002131000000106</td>\n",
       "      <td>[945931000000101, 936741000000100, 93672100000...</td>\n",
       "    </tr>\n",
       "    <tr>\n",
       "      <th>3</th>\n",
       "      <td>Accessible information - requires specific inf...</td>\n",
       "      <td>999002141000000102</td>\n",
       "      <td>[719758004, 936581000000101, 1082551000000105,...</td>\n",
       "    </tr>\n",
       "    <tr>\n",
       "      <th>4</th>\n",
       "      <td>Accommodation environmental findings simple re...</td>\n",
       "      <td>1127471000000101</td>\n",
       "      <td>[715758005, 715995001, 224277008, 1204361005, ...</td>\n",
       "    </tr>\n",
       "    <tr>\n",
       "      <th>...</th>\n",
       "      <td>...</td>\n",
       "      <td>...</td>\n",
       "      <td>...</td>\n",
       "    </tr>\n",
       "    <tr>\n",
       "      <th>1440</th>\n",
       "      <td>Vaccine body site of administration simple ref...</td>\n",
       "      <td>1127941000000100</td>\n",
       "      <td>[368208006, 279549004, 74262004, 368209003, 72...</td>\n",
       "    </tr>\n",
       "    <tr>\n",
       "      <th>1441</th>\n",
       "      <td>Vaccine route of administration simple referen...</td>\n",
       "      <td>115231000001104</td>\n",
       "      <td>[372464004, 78421000, 46713006, 26643006, 3420...</td>\n",
       "    </tr>\n",
       "    <tr>\n",
       "      <th>1442</th>\n",
       "      <td>WAS A association reference set</td>\n",
       "      <td>900000000000528000</td>\n",
       "      <td>[402231000000105, 402201000000104, 40221100000...</td>\n",
       "    </tr>\n",
       "    <tr>\n",
       "      <th>1443</th>\n",
       "      <td>Was pack of association reference set</td>\n",
       "      <td>999000751000001103</td>\n",
       "      <td>[]</td>\n",
       "    </tr>\n",
       "    <tr>\n",
       "      <th>1444</th>\n",
       "      <td>Wound integrity findings simple reference set</td>\n",
       "      <td>999002531000000101</td>\n",
       "      <td>[396544001, 200338007, 32999002, 422071000, 60...</td>\n",
       "    </tr>\n",
       "  </tbody>\n",
       "</table>\n",
       "<p>1445 rows × 3 columns</p>\n",
       "</div>"
      ],
      "text/plain": [
       "                                           display_list            ref_list  \\\n",
       "0     Accessible information - communication support...  999002121000000109   \n",
       "1     Accessible information - requires communicatio...  999002151000000104   \n",
       "2     Accessible information - requires specific con...  999002131000000106   \n",
       "3     Accessible information - requires specific inf...  999002141000000102   \n",
       "4     Accommodation environmental findings simple re...    1127471000000101   \n",
       "...                                                 ...                 ...   \n",
       "1440  Vaccine body site of administration simple ref...    1127941000000100   \n",
       "1441  Vaccine route of administration simple referen...     115231000001104   \n",
       "1442                    WAS A association reference set  900000000000528000   \n",
       "1443              Was pack of association reference set  999000751000001103   \n",
       "1444      Wound integrity findings simple reference set  999002531000000101   \n",
       "\n",
       "                                                  codes  \n",
       "0     [441092009, 285055002, 520471000000105, 520491...  \n",
       "1     [204331000000107, 945731000000104, 20434100000...  \n",
       "2     [945931000000101, 936741000000100, 93672100000...  \n",
       "3     [719758004, 936581000000101, 1082551000000105,...  \n",
       "4     [715758005, 715995001, 224277008, 1204361005, ...  \n",
       "...                                                 ...  \n",
       "1440  [368208006, 279549004, 74262004, 368209003, 72...  \n",
       "1441  [372464004, 78421000, 46713006, 26643006, 3420...  \n",
       "1442  [402231000000105, 402201000000104, 40221100000...  \n",
       "1443                                                 []  \n",
       "1444  [396544001, 200338007, 32999002, 422071000, 60...  \n",
       "\n",
       "[1445 rows x 3 columns]"
      ]
     },
     "execution_count": 13,
     "metadata": {},
     "output_type": "execute_result"
    }
   ],
   "source": [
    "code_column = []\n",
    "\n",
    "for refset in tqdm(refsets['ref_list'].to_list()):\n",
    "    url = f'http://snomed.info/xsct/999000011000230102/version/20230705?fhir_vs=refset/{refset}'\n",
    "\n",
    "    try:\n",
    "        code_list = fhir_client.retrieve_concept_codes_from_url(url)    \n",
    "        code_column.append(code_list)\n",
    "    except Exception as e:\n",
    "        code_column.append(f'unable to retrieve: {e}')\n",
    "\n",
    "refsets['codes'] = code_column\n",
    "refsets"
   ]
  },
  {
   "cell_type": "code",
   "execution_count": 6,
   "metadata": {},
   "outputs": [
    {
     "name": "stdout",
     "output_type": "stream",
     "text": [
      "Failed to retrieve value set: 422 - {\"resourceType\":\"OperationOutcome\",\"issue\":[{\"severity\":\"error\",\"code\":\"too-costly\",\"details\":{\"text\":\"[9d77d93b-f941-45ae-9351-f9dca39babe2]: The expansion of value set http://snomed.info/xsct/999000011000230102/version/20230705?fhir_vs=refset/900000000000489007 was too big (>50000).\"},\"diagnostics\":\"[9d77d93b-f941-45ae-9351-f9dca39babe2]: The expansion of value set http://snomed.info/xsct/999000011000230102/version/20230705?fhir_vs=refset/900000000000489007 was too big (>50000).\"}]}\n"
     ]
    },
    {
     "data": {
      "text/plain": [
       "[]"
      ]
     },
     "execution_count": 6,
     "metadata": {},
     "output_type": "execute_result"
    }
   ],
   "source": [
    "# retrieve list of concept codes using a value set url\n",
    "\n",
    "url = 'http://snomed.info/xsct/999000011000230102/version/20230705?fhir_vs=refset/900000000000489007'\n",
    "\n",
    "fhir_client.retrieve_concept_codes_from_url(url)"
   ]
  }
 ],
 "metadata": {
  "kernelspec": {
   "display_name": "stats",
   "language": "python",
   "name": "python3"
  },
  "language_info": {
   "codemirror_mode": {
    "name": "ipython",
    "version": 3
   },
   "file_extension": ".py",
   "mimetype": "text/x-python",
   "name": "python",
   "nbconvert_exporter": "python",
   "pygments_lexer": "ipython3",
   "version": "3.11.2"
  }
 },
 "nbformat": 4,
 "nbformat_minor": 2
}
