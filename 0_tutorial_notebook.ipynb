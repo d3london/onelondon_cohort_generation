{
 "cells": [
  {
   "cell_type": "code",
   "execution_count": 1,
   "metadata": {},
   "outputs": [],
   "source": [
    "import os\n",
    "import requests\n",
    "import json\n",
    "from scripts.onto import FHIRTerminologyClient\n",
    "from dotenv import load_dotenv"
   ]
  },
  {
   "cell_type": "markdown",
   "metadata": {},
   "source": [
    "#### Concept retrieval from the London terminology server\n",
    "\n",
    "Based on a example value set that was made on Snapper. The SNOMED-CT codes contained with the value set are parsed from the resulting json into a list. For general request API guidance, see https://developer.nhs.uk/apis/gpconnect-1-2-2/development_fhir_api_guidance.html#requests"
   ]
  },
  {
   "cell_type": "code",
   "execution_count": 3,
   "metadata": {},
   "outputs": [],
   "source": [
    "# loads CLIENT_ID and CLIENT_SECRET that are set locally in .env, and initialises FHIR client\n",
    "\n",
    "load_dotenv() \n",
    "fhir_client = FHIRTerminologyClient(endpoint_type='authoring') "
   ]
  },
  {
   "cell_type": "code",
   "execution_count": 4,
   "metadata": {},
   "outputs": [
    {
     "data": {
      "text/plain": [
       "['59621000', '1201005']"
      ]
     },
     "execution_count": 4,
     "metadata": {},
     "output_type": "execute_result"
    }
   ],
   "source": [
    "# retrieves list of concept codes given a value set id\n",
    "\n",
    "value_set_id = '0b7fb784-d8b1-4a1a-9575-6fef1b53dc92'\n",
    "\n",
    "fhir_client.retrieve_concept_codes_from_id(value_set_id)"
   ]
  },
  {
   "cell_type": "code",
   "execution_count": 7,
   "metadata": {},
   "outputs": [
    {
     "name": "stdout",
     "output_type": "stream",
     "text": [
      "hypertensiondisordertest\n"
     ]
    },
    {
     "data": {
      "text/plain": [
       "['59621000', '1201005']"
      ]
     },
     "execution_count": 7,
     "metadata": {},
     "output_type": "execute_result"
    }
   ],
   "source": [
    "# retrieve list of concept codes using a value set url\n",
    "\n",
    "url = 'http://aic/hypertensiondisordertest'\n",
    "\n",
    "fhir_client.retrieve_concept_codes_from_url(url)"
   ]
  },
  {
   "cell_type": "markdown",
   "metadata": {},
   "source": [
    "#### Experimenting with GET requests to API server"
   ]
  },
  {
   "cell_type": "code",
   "execution_count": 6,
   "metadata": {},
   "outputs": [],
   "source": [
    "def get_access_token():\n",
    "    \"\"\"\n",
    "    Given a CLIENT_ID and CLIENT_SECRET (set as environmental variables)\n",
    "    Returns access token for session from OneLondon terminology server\n",
    "    \"\"\"\n",
    "    client_id = os.getenv('CLIENT_ID')\n",
    "    client_secret = os.getenv('CLIENT_SECRET')\n",
    "\n",
    "    if not client_id or not client_secret:\n",
    "        raise ValueError(\"Client ID and/or Client Secret not set in environment variables.\")\n",
    "\n",
    "    # endpoint url (see https://ontology.onelondon.online/)\n",
    "    url = 'https://ontology.onelondon.online/authorisation/auth/realms/terminology/protocol/openid-connect/token'\n",
    "    \n",
    "    # define request contents\n",
    "    headers = {\n",
    "        'Content-Type': 'application/x-www-form-urlencoded'\n",
    "    }\n",
    "    data = {\n",
    "        'grant_type': 'client_credentials',\n",
    "        'client_id': client_id,\n",
    "        'client_secret': client_secret\n",
    "    }\n",
    "    \n",
    "    # POST request\n",
    "    try:\n",
    "        response = requests.post(url, headers=headers, data=data)\n",
    "    \n",
    "        # check HTTP status code\n",
    "        response.raise_for_status()\n",
    "    \n",
    "        # get access token\n",
    "        access_token = response.json().get('access_token')\n",
    "        if not access_token:\n",
    "            raise ValueError(\"Failed to find access token.\")\n",
    "\n",
    "        return access_token\n",
    "    \n",
    "    except requests.RequestException as e:\n",
    "        print(f\"Unable to request: {e}\")\n",
    "        return None"
   ]
  },
  {
   "cell_type": "code",
   "execution_count": 7,
   "metadata": {},
   "outputs": [],
   "source": [
    "# get access token\n",
    "\n",
    "access_token = get_access_token()"
   ]
  },
  {
   "cell_type": "code",
   "execution_count": 8,
   "metadata": {},
   "outputs": [
    {
     "data": {
      "text/plain": [
       "{'resourceType': 'Bundle',\n",
       " 'id': 'fb3dc75d-460f-3731-b862-961d6094623a',\n",
       " 'meta': {'lastUpdated': '2024-06-27T14:17:25.640+00:00',\n",
       "  'tag': [{'system': 'http://terminology.hl7.org/CodeSystem/v3-ObservationValue',\n",
       "    'code': 'SUBSETTED',\n",
       "    'display': 'Resource encoded in summary mode'}]},\n",
       " 'type': 'searchset',\n",
       " 'total': 1,\n",
       " 'link': [{'relation': 'self',\n",
       "   'url': 'https://ontology.onelondon.online/authoring/fhir/ValueSet?_summary=true&name=Hypertension'}],\n",
       " 'entry': [{'fullUrl': 'https://ontology.onelondon.online/authoring/fhir/ValueSet/0b7fb784-d8b1-4a1a-9575-6fef1b53dc92',\n",
       "   'resource': {'resourceType': 'ValueSet',\n",
       "    'id': '0b7fb784-d8b1-4a1a-9575-6fef1b53dc92',\n",
       "    'meta': {'versionId': '1',\n",
       "     'lastUpdated': '2024-06-20T10:45:52.407+00:00',\n",
       "     'tag': [{'system': 'http://terminology.hl7.org/CodeSystem/v3-ObservationValue',\n",
       "       'code': 'SUBSETTED',\n",
       "       'display': 'Resource encoded in summary mode'}]},\n",
       "    'url': 'http://aic/hypertensiondisordertest',\n",
       "    'name': 'Hypertensiondisordertest',\n",
       "    'title': 'hypertensiondisordertest',\n",
       "    'status': 'active',\n",
       "    'experimental': True,\n",
       "    'contact': [{'telecom': [{'system': 'email'}]}]}}]}"
      ]
     },
     "execution_count": 8,
     "metadata": {},
     "output_type": "execute_result"
    }
   ],
   "source": [
    "# search for value sets by filtering on name\n",
    "\n",
    "url = 'https://ontology.onelondon.online/authoring/fhir/ValueSet?name=Hypertension'\n",
    "\n",
    "headers = {\n",
    "    \"Authorization\": f\"Bearer {access_token}\"\n",
    "}\n",
    "\n",
    "response = requests.get(url, headers=headers)\n",
    "response.json()"
   ]
  },
  {
   "cell_type": "code",
   "execution_count": 10,
   "metadata": {},
   "outputs": [
    {
     "data": {
      "text/plain": [
       "{'resourceType': 'ValueSet',\n",
       " 'id': '0b7fb784-d8b1-4a1a-9575-6fef1b53dc92',\n",
       " 'meta': {'versionId': '1', 'lastUpdated': '2024-06-20T10:45:52.407+00:00'},\n",
       " 'text': {'status': 'generated',\n",
       "  'div': '<div xmlns=\"http://www.w3.org/1999/xhtml\"><h2>hypertensiondisordertest</h2><tt>http://aic/hypertensiondisordertest</tt><p>Test value set for SNOMED hypertension codes</p></div>'},\n",
       " 'url': 'http://aic/hypertensiondisordertest',\n",
       " 'name': 'Hypertensiondisordertest',\n",
       " 'title': 'hypertensiondisordertest',\n",
       " 'status': 'active',\n",
       " 'experimental': True,\n",
       " 'contact': [{'telecom': [{'system': 'email'}]}],\n",
       " 'description': 'Test value set for SNOMED hypertension codes',\n",
       " 'compose': {'include': [{'system': 'http://snomed.info/sct',\n",
       "    'concept': [{'code': '59621000', 'display': 'Essential hypertension'},\n",
       "     {'code': '1201005', 'display': 'Benign essential hypertension'}]}]}}"
      ]
     },
     "metadata": {},
     "output_type": "display_data"
    }
   ],
   "source": [
    "# retrieve a value set by requesting from [endpoint url]/[type]/[id]\n",
    "\n",
    "url = 'https://ontology.onelondon.online/authoring/fhir/ValueSet/0b7fb784-d8b1-4a1a-9575-6fef1b53dc92'\n",
    "\n",
    "headers = {\n",
    "    \"Authorization\": f\"Bearer {access_token}\"\n",
    "}\n",
    "\n",
    "response = requests.get(url, headers=headers)\n",
    "value_set = response.json()\n",
    "\n",
    "display(value_set)"
   ]
  },
  {
   "cell_type": "code",
   "execution_count": 12,
   "metadata": {},
   "outputs": [
    {
     "data": {
      "text/plain": [
       "{'resourceType': 'ValueSet',\n",
       " 'url': 'http://aic/hypertensiondisordertest',\n",
       " 'name': 'Hypertensiondisordertest',\n",
       " 'title': 'hypertensiondisordertest',\n",
       " 'status': 'active',\n",
       " 'experimental': True,\n",
       " 'expansion': {'identifier': 'urn:uuid:a5d84e9f-11bb-4a5e-9c87-a70af51178b2',\n",
       "  'timestamp': '2024-06-27T14:18:30+00:00',\n",
       "  'total': 2,\n",
       "  'parameter': [{'name': 'version',\n",
       "    'valueUri': 'http://snomed.info/sct|http://snomed.info/sct/83821000000107/version/20240605'},\n",
       "   {'name': 'used-codesystem',\n",
       "    'valueUri': 'http://snomed.info/sct|http://snomed.info/sct/83821000000107/version/20240605'},\n",
       "   {'name': 'warning-experimental',\n",
       "    'valueUri': 'http://aic/hypertensiondisordertest'}],\n",
       "  'contains': [{'system': 'http://snomed.info/sct',\n",
       "    'code': '59621000',\n",
       "    'display': 'Essential hypertension'},\n",
       "   {'system': 'http://snomed.info/sct',\n",
       "    'code': '1201005',\n",
       "    'display': 'Benign essential hypertension'}]}}"
      ]
     },
     "metadata": {},
     "output_type": "display_data"
    }
   ],
   "source": [
    "# retrieve a value set from canonical url\n",
    "\n",
    "url = 'https://ontology.onelondon.online/authoring/fhir/ValueSet/$expand?url=http://aic/hypertensiondisordertest'\n",
    "\n",
    "headers = {\n",
    "    \"Authorization\": f\"Bearer {access_token}\"\n",
    "}\n",
    "\n",
    "response = requests.get(url, headers=headers)\n",
    "value_set = response.json()\n",
    "display(value_set)"
   ]
  },
  {
   "cell_type": "code",
   "execution_count": 13,
   "metadata": {},
   "outputs": [
    {
     "data": {
      "text/plain": [
       "'Hypertensiondisordertest'"
      ]
     },
     "execution_count": 13,
     "metadata": {},
     "output_type": "execute_result"
    }
   ],
   "source": [
    "value_set.get('name')"
   ]
  },
  {
   "cell_type": "code",
   "execution_count": 14,
   "metadata": {},
   "outputs": [
    {
     "data": {
      "text/plain": [
       "[{'system': 'http://snomed.info/sct',\n",
       "  'code': '59621000',\n",
       "  'display': 'Essential hypertension'},\n",
       " {'system': 'http://snomed.info/sct',\n",
       "  'code': '1201005',\n",
       "  'display': 'Benign essential hypertension'}]"
      ]
     },
     "execution_count": 14,
     "metadata": {},
     "output_type": "execute_result"
    }
   ],
   "source": [
    "value_set.get('expansion', {}).get('contains', [])"
   ]
  },
  {
   "cell_type": "code",
   "execution_count": 15,
   "metadata": {},
   "outputs": [
    {
     "data": {
      "text/plain": [
       "['59621000', '1201005']"
      ]
     },
     "execution_count": 15,
     "metadata": {},
     "output_type": "execute_result"
    }
   ],
   "source": [
    "code_list = [item['code'] for item in value_set.get('expansion', {}).get('contains', [])]\n",
    "code_list"
   ]
  }
 ],
 "metadata": {
  "kernelspec": {
   "display_name": "stats",
   "language": "python",
   "name": "python3"
  },
  "language_info": {
   "codemirror_mode": {
    "name": "ipython",
    "version": 3
   },
   "file_extension": ".py",
   "mimetype": "text/x-python",
   "name": "python",
   "nbconvert_exporter": "python",
   "pygments_lexer": "ipython3",
   "version": "3.11.2"
  }
 },
 "nbformat": 4,
 "nbformat_minor": 2
}
