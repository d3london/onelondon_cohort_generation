{
 "cells": [
  {
   "cell_type": "code",
   "execution_count": 1,
   "metadata": {},
   "outputs": [],
   "source": [
    "import requests\n",
    "import json\n",
    "from scripts.onto import get_access_token\n",
    "from scripts.onto import retrieve_concept_codes_from_id, retrieve_concept_codes_from_desc\n",
    "from dotenv import load_dotenv"
   ]
  },
  {
   "cell_type": "markdown",
   "metadata": {},
   "source": [
    "#### Concept retrieval from the London terminology server\n",
    "\n",
    "Based on a example value set that was made on Snapper. The SNOMED-CT codes contained with the value set are parsed from the resulting json into a list. For general request API guidance, see https://developer.nhs.uk/apis/gpconnect-1-2-2/development_fhir_api_guidance.html#requests"
   ]
  },
  {
   "cell_type": "code",
   "execution_count": 2,
   "metadata": {},
   "outputs": [],
   "source": [
    "### retrieve access token from London terminology server\n",
    "\n",
    "load_dotenv() # set CLIENT_ID and CLIENT_SECRET locally in .env\n",
    "access_token = get_access_token()"
   ]
  },
  {
   "cell_type": "code",
   "execution_count": 3,
   "metadata": {},
   "outputs": [
    {
     "data": {
      "text/plain": [
       "['59621000', '1201005']"
      ]
     },
     "execution_count": 3,
     "metadata": {},
     "output_type": "execute_result"
    }
   ],
   "source": [
    "### retrieve list of concept codes using a value set id\n",
    "\n",
    "value_set_id = '0b7fb784-d8b1-4a1a-9575-6fef1b53dc92'\n",
    "\n",
    "test_code_list = retrieve_concept_codes_from_id(access_token, value_set_id, endpoint='authoring')\n",
    "test_code_list"
   ]
  },
  {
   "cell_type": "code",
   "execution_count": 4,
   "metadata": {},
   "outputs": [
    {
     "data": {
      "text/plain": [
       "['59621000', '1201005']"
      ]
     },
     "execution_count": 4,
     "metadata": {},
     "output_type": "execute_result"
    }
   ],
   "source": [
    "### retrieve list of concept codes using a value set url\n",
    "\n",
    "test_code_list = retrieve_concept_codes_from_desc(access_token, endpoint='authoring', query_type='url', query_value='http://aic/hypertensiondisordertest')\n",
    "test_code_list"
   ]
  },
  {
   "cell_type": "code",
   "execution_count": 5,
   "metadata": {},
   "outputs": [
    {
     "ename": "KeyError",
     "evalue": "'entry'",
     "output_type": "error",
     "traceback": [
      "\u001b[0;31m---------------------------------------------------------------------------\u001b[0m",
      "\u001b[0;31mKeyError\u001b[0m                                  Traceback (most recent call last)",
      "Cell \u001b[0;32mIn[5], line 3\u001b[0m\n\u001b[1;32m      1\u001b[0m \u001b[38;5;66;03m### retrieve list of concept codes using a value set name\u001b[39;00m\n\u001b[0;32m----> 3\u001b[0m test_code_list \u001b[38;5;241m=\u001b[39m \u001b[43mretrieve_concept_codes_from_desc\u001b[49m\u001b[43m(\u001b[49m\u001b[43maccess_token\u001b[49m\u001b[43m,\u001b[49m\u001b[43m \u001b[49m\u001b[43mendpoint\u001b[49m\u001b[38;5;241;43m=\u001b[39;49m\u001b[38;5;124;43m'\u001b[39;49m\u001b[38;5;124;43mauthoring\u001b[39;49m\u001b[38;5;124;43m'\u001b[39;49m\u001b[43m,\u001b[49m\u001b[43m \u001b[49m\u001b[43mquery_type\u001b[49m\u001b[38;5;241;43m=\u001b[39;49m\u001b[38;5;124;43m'\u001b[39;49m\u001b[38;5;124;43murl\u001b[39;49m\u001b[38;5;124;43m'\u001b[39;49m\u001b[43m,\u001b[49m\u001b[43m \u001b[49m\u001b[43mquery_value\u001b[49m\u001b[38;5;241;43m=\u001b[39;49m\u001b[38;5;124;43m'\u001b[39;49m\u001b[38;5;124;43mhypertensiondisordertest\u001b[39;49m\u001b[38;5;124;43m'\u001b[39;49m\u001b[43m)\u001b[49m\n\u001b[1;32m      4\u001b[0m test_code_list\n",
      "File \u001b[0;32m/mnt/c/_repos/_d3london/onelondon_cohort_generation/scripts/onto.py:122\u001b[0m, in \u001b[0;36mretrieve_concept_codes_from_desc\u001b[0;34m(access_token, endpoint, query_type, query_value)\u001b[0m\n\u001b[1;32m    120\u001b[0m \u001b[38;5;66;03m# extract full url with id\u001b[39;00m\n\u001b[1;32m    121\u001b[0m \u001b[38;5;28;01mtry\u001b[39;00m:\n\u001b[0;32m--> 122\u001b[0m     full_url \u001b[38;5;241m=\u001b[39m \u001b[43mbundle\u001b[49m\u001b[43m[\u001b[49m\u001b[38;5;124;43m'\u001b[39;49m\u001b[38;5;124;43mentry\u001b[39;49m\u001b[38;5;124;43m'\u001b[39;49m\u001b[43m]\u001b[49m[\u001b[38;5;241m0\u001b[39m][\u001b[38;5;124m'\u001b[39m\u001b[38;5;124mfullUrl\u001b[39m\u001b[38;5;124m'\u001b[39m]\n\u001b[1;32m    124\u001b[0m     \u001b[38;5;66;03m# retrieve actual value set from full url\u001b[39;00m\n\u001b[1;32m    125\u001b[0m     response \u001b[38;5;241m=\u001b[39m requests\u001b[38;5;241m.\u001b[39mget(full_url, headers\u001b[38;5;241m=\u001b[39mheaders)\n",
      "\u001b[0;31mKeyError\u001b[0m: 'entry'"
     ]
    }
   ],
   "source": [
    "### retrieve list of concept codes using a value set name\n",
    "\n",
    "test_code_list = retrieve_concept_codes_from_desc(access_token, endpoint='authoring', query_type='name', query_value='hypertensiondisordertest')\n",
    "test_code_list"
   ]
  },
  {
   "cell_type": "markdown",
   "metadata": {},
   "source": [
    "#### Testing different GET requests to API server"
   ]
  },
  {
   "cell_type": "code",
   "execution_count": 4,
   "metadata": {},
   "outputs": [
    {
     "data": {
      "text/plain": [
       "{'resourceType': 'Bundle',\n",
       " 'id': 'ff09f08c-684d-3c01-9ac1-31c3fd57f422',\n",
       " 'meta': {'lastUpdated': '2024-06-20T13:54:45.631+00:00',\n",
       "  'tag': [{'system': 'http://terminology.hl7.org/CodeSystem/v3-ObservationValue',\n",
       "    'code': 'SUBSETTED',\n",
       "    'display': 'Resource encoded in summary mode'}]},\n",
       " 'type': 'searchset',\n",
       " 'total': 1,\n",
       " 'link': [{'relation': 'self',\n",
       "   'url': 'https://ontology.onelondon.online/authoring/fhir/ValueSet?_summary=true&name=Hypertension'}],\n",
       " 'entry': [{'fullUrl': 'https://ontology.onelondon.online/authoring/fhir/ValueSet/0b7fb784-d8b1-4a1a-9575-6fef1b53dc92',\n",
       "   'resource': {'resourceType': 'ValueSet',\n",
       "    'id': '0b7fb784-d8b1-4a1a-9575-6fef1b53dc92',\n",
       "    'meta': {'versionId': '1',\n",
       "     'lastUpdated': '2024-06-20T10:45:52.407+00:00',\n",
       "     'tag': [{'system': 'http://terminology.hl7.org/CodeSystem/v3-ObservationValue',\n",
       "       'code': 'SUBSETTED',\n",
       "       'display': 'Resource encoded in summary mode'}]},\n",
       "    'url': 'http://aic/hypertensiondisordertest',\n",
       "    'name': 'Hypertensiondisordertest',\n",
       "    'title': 'hypertensiondisordertest',\n",
       "    'status': 'active',\n",
       "    'experimental': True,\n",
       "    'contact': [{'telecom': [{'system': 'email'}]}]}}]}"
      ]
     },
     "execution_count": 4,
     "metadata": {},
     "output_type": "execute_result"
    }
   ],
   "source": [
    "### search for value sets by filtering on name\n",
    "\n",
    "url = 'https://ontology.onelondon.online/authoring/fhir/ValueSet?name=Hypertension'\n",
    "\n",
    "headers = {\n",
    "    \"Authorization\": f\"Bearer {access_token}\"\n",
    "}\n",
    "\n",
    "response = requests.get(url, headers=headers)\n",
    "response.json()"
   ]
  },
  {
   "cell_type": "code",
   "execution_count": 5,
   "metadata": {},
   "outputs": [
    {
     "data": {
      "text/plain": [
       "{'resourceType': 'ValueSet',\n",
       " 'id': '0b7fb784-d8b1-4a1a-9575-6fef1b53dc92',\n",
       " 'meta': {'versionId': '1', 'lastUpdated': '2024-06-20T10:45:52.407+00:00'},\n",
       " 'text': {'status': 'generated',\n",
       "  'div': '<div xmlns=\"http://www.w3.org/1999/xhtml\"><h2>hypertensiondisordertest</h2><tt>http://aic/hypertensiondisordertest</tt><p>Test value set for SNOMED hypertension codes</p></div>'},\n",
       " 'url': 'http://aic/hypertensiondisordertest',\n",
       " 'name': 'Hypertensiondisordertest',\n",
       " 'title': 'hypertensiondisordertest',\n",
       " 'status': 'active',\n",
       " 'experimental': True,\n",
       " 'contact': [{'telecom': [{'system': 'email'}]}],\n",
       " 'description': 'Test value set for SNOMED hypertension codes',\n",
       " 'compose': {'include': [{'system': 'http://snomed.info/sct',\n",
       "    'concept': [{'code': '59621000', 'display': 'Essential hypertension'},\n",
       "     {'code': '1201005', 'display': 'Benign essential hypertension'}]}]}}"
      ]
     },
     "metadata": {},
     "output_type": "display_data"
    }
   ],
   "source": [
    "### retrieve a value set by requesting from [endpoint url]/[type]/[id]\n",
    "\n",
    "url = 'https://ontology.onelondon.online/authoring/fhir/ValueSet/0b7fb784-d8b1-4a1a-9575-6fef1b53dc92'\n",
    "\n",
    "headers = {\n",
    "    \"Authorization\": f\"Bearer {access_token}\"\n",
    "}\n",
    "\n",
    "response = requests.get(url, headers=headers)\n",
    "value_set = response.json()\n",
    "\n",
    "display(value_set)"
   ]
  },
  {
   "cell_type": "code",
   "execution_count": 5,
   "metadata": {},
   "outputs": [
    {
     "data": {
      "text/plain": [
       "{'resourceType': 'Bundle',\n",
       " 'id': '0fc1b49d-7f31-3871-a66c-5c6b1332fc01',\n",
       " 'meta': {'lastUpdated': '2024-06-20T14:09:43.587+00:00',\n",
       "  'tag': [{'system': 'http://terminology.hl7.org/CodeSystem/v3-ObservationValue',\n",
       "    'code': 'SUBSETTED',\n",
       "    'display': 'Resource encoded in summary mode'}]},\n",
       " 'type': 'searchset',\n",
       " 'total': 1,\n",
       " 'link': [{'relation': 'self',\n",
       "   'url': 'https://ontology.onelondon.online/authoring/fhir/ValueSet/?_summary=true&url=http%3A%2F%2Faic%2Fhypertensiondisordertest'}],\n",
       " 'entry': [{'fullUrl': 'https://ontology.onelondon.online/authoring/fhir/ValueSet/0b7fb784-d8b1-4a1a-9575-6fef1b53dc92',\n",
       "   'resource': {'resourceType': 'ValueSet',\n",
       "    'id': '0b7fb784-d8b1-4a1a-9575-6fef1b53dc92',\n",
       "    'meta': {'versionId': '1',\n",
       "     'lastUpdated': '2024-06-20T10:45:52.407+00:00',\n",
       "     'tag': [{'system': 'http://terminology.hl7.org/CodeSystem/v3-ObservationValue',\n",
       "       'code': 'SUBSETTED',\n",
       "       'display': 'Resource encoded in summary mode'}]},\n",
       "    'url': 'http://aic/hypertensiondisordertest',\n",
       "    'name': 'Hypertensiondisordertest',\n",
       "    'title': 'hypertensiondisordertest',\n",
       "    'status': 'active',\n",
       "    'experimental': True,\n",
       "    'contact': [{'telecom': [{'system': 'email'}]}]}}]}"
      ]
     },
     "metadata": {},
     "output_type": "display_data"
    },
    {
     "data": {
      "text/plain": [
       "{'resourceType': 'ValueSet',\n",
       " 'id': '0b7fb784-d8b1-4a1a-9575-6fef1b53dc92',\n",
       " 'meta': {'versionId': '1', 'lastUpdated': '2024-06-20T10:45:52.407+00:00'},\n",
       " 'text': {'status': 'generated',\n",
       "  'div': '<div xmlns=\"http://www.w3.org/1999/xhtml\"><h2>hypertensiondisordertest</h2><tt>http://aic/hypertensiondisordertest</tt><p>Test value set for SNOMED hypertension codes</p></div>'},\n",
       " 'url': 'http://aic/hypertensiondisordertest',\n",
       " 'name': 'Hypertensiondisordertest',\n",
       " 'title': 'hypertensiondisordertest',\n",
       " 'status': 'active',\n",
       " 'experimental': True,\n",
       " 'contact': [{'telecom': [{'system': 'email'}]}],\n",
       " 'description': 'Test value set for SNOMED hypertension codes',\n",
       " 'compose': {'include': [{'system': 'http://snomed.info/sct',\n",
       "    'concept': [{'code': '59621000', 'display': 'Essential hypertension'},\n",
       "     {'code': '1201005', 'display': 'Benign essential hypertension'}]}]}}"
      ]
     },
     "metadata": {},
     "output_type": "display_data"
    }
   ],
   "source": [
    "### retrieve a value set where the id is unknown, but the canonical url or name are known\n",
    "\n",
    "url = 'https://ontology.onelondon.online/authoring/fhir/ValueSet/?url=http://aic/hypertensiondisordertest'\n",
    "#url = 'https://ontology.onelondon.online/authoring/fhir/ValueSet/?name=Hypertensiondisordertest'\n",
    "\n",
    "headers = {\n",
    "    \"Authorization\": f\"Bearer {access_token}\"\n",
    "}\n",
    "\n",
    "response = requests.get(url, headers=headers)\n",
    "bundle = response.json()\n",
    "display(bundle)\n",
    "\n",
    "full_url = bundle.get('entry')[0].get('fullUrl')\n",
    "response = requests.get(full_url, headers=headers)\n",
    "value_set = response.json()\n",
    "display(value_set)"
   ]
  },
  {
   "cell_type": "code",
   "execution_count": 7,
   "metadata": {},
   "outputs": [
    {
     "name": "stdout",
     "output_type": "stream",
     "text": [
      "vocabulary: http://snomed.info/sct\n",
      "value set title: hypertensiondisordertest\n",
      "['59621000', '1201005']\n"
     ]
    }
   ],
   "source": [
    "### parse through value set as json to extract required items\n",
    "\n",
    "vocab = value_set.get('compose', {}).get('include', [])[0].get('system')\n",
    "print(f\"vocabulary: {vocab}\")\n",
    "\n",
    "title = value_set.get('title', 'code_list')\n",
    "print(f\"value set title: {title}\")\n",
    "\n",
    "concepts = value_set.get('compose', {}).get('include', [])[0].get('concept')\n",
    "code_list = []\n",
    "for item in concepts:\n",
    "    code_list.append(item.get('code', 'no code listed'))\n",
    "print(code_list)\n"
   ]
  }
 ],
 "metadata": {
  "kernelspec": {
   "display_name": "stats",
   "language": "python",
   "name": "python3"
  },
  "language_info": {
   "codemirror_mode": {
    "name": "ipython",
    "version": 3
   },
   "file_extension": ".py",
   "mimetype": "text/x-python",
   "name": "python",
   "nbconvert_exporter": "python",
   "pygments_lexer": "ipython3",
   "version": "3.11.2"
  }
 },
 "nbformat": 4,
 "nbformat_minor": 2
}
