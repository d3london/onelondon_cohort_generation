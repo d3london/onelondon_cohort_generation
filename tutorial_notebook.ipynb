{
 "cells": [
  {
   "cell_type": "code",
   "execution_count": 49,
   "metadata": {},
   "outputs": [],
   "source": [
    "import requests\n",
    "import json\n",
    "from scripts.auth import get_access_token\n",
    "from dotenv import load_dotenv"
   ]
  },
  {
   "cell_type": "markdown",
   "metadata": {},
   "source": [
    "Simple examples for concept retrieval from the London terminology server (based on a example value set that was made on Snapper). The SNOMED-CT codes contained with the value set are parsed from the resulting json into a list.\n",
    "\n",
    "For general request API guidance, see https://developer.nhs.uk/apis/gpconnect-1-2-2/development_fhir_api_guidance.html#requests"
   ]
  },
  {
   "cell_type": "code",
   "execution_count": 50,
   "metadata": {},
   "outputs": [],
   "source": [
    "### retrieve access token from London terminology server\n",
    "\n",
    "load_dotenv() # set CLIENT_ID and CLIENT_SECRET locally in .env\n",
    "access_token = get_access_token()"
   ]
  },
  {
   "cell_type": "code",
   "execution_count": 64,
   "metadata": {},
   "outputs": [
    {
     "data": {
      "text/plain": [
       "{'resourceType': 'Bundle',\n",
       " 'id': '7b100626-746a-3b88-bf7e-1dda0f2db8be',\n",
       " 'meta': {'lastUpdated': '2024-06-20T12:42:11.475+00:00',\n",
       "  'tag': [{'system': 'http://terminology.hl7.org/CodeSystem/v3-ObservationValue',\n",
       "    'code': 'SUBSETTED',\n",
       "    'display': 'Resource encoded in summary mode'}]},\n",
       " 'type': 'searchset',\n",
       " 'total': 1,\n",
       " 'link': [{'relation': 'self',\n",
       "   'url': 'https://ontology.onelondon.online/authoring/fhir/ValueSet?_summary=true&name=Hypertension'}],\n",
       " 'entry': [{'fullUrl': 'https://ontology.onelondon.online/authoring/fhir/ValueSet/0b7fb784-d8b1-4a1a-9575-6fef1b53dc92',\n",
       "   'resource': {'resourceType': 'ValueSet',\n",
       "    'id': '0b7fb784-d8b1-4a1a-9575-6fef1b53dc92',\n",
       "    'meta': {'versionId': '1',\n",
       "     'lastUpdated': '2024-06-20T10:45:52.407+00:00',\n",
       "     'tag': [{'system': 'http://terminology.hl7.org/CodeSystem/v3-ObservationValue',\n",
       "       'code': 'SUBSETTED',\n",
       "       'display': 'Resource encoded in summary mode'}]},\n",
       "    'url': 'http://aic/hypertensiondisordertest',\n",
       "    'name': 'Hypertensiondisordertest',\n",
       "    'title': 'hypertensiondisordertest',\n",
       "    'status': 'active',\n",
       "    'experimental': True,\n",
       "    'contact': [{'telecom': [{'system': 'email'}]}]}}]}"
      ]
     },
     "execution_count": 64,
     "metadata": {},
     "output_type": "execute_result"
    }
   ],
   "source": [
    "### search for value sets by filtering on name\n",
    "\n",
    "url = 'https://ontology.onelondon.online/authoring/fhir/ValueSet?name=Hypertension'\n",
    "\n",
    "headers = {\n",
    "    \"Authorization\": f\"Bearer {access_token}\"\n",
    "}\n",
    "\n",
    "response = requests.get(url, headers=headers)\n",
    "response.json()"
   ]
  },
  {
   "cell_type": "code",
   "execution_count": 65,
   "metadata": {},
   "outputs": [
    {
     "data": {
      "text/plain": [
       "{'resourceType': 'ValueSet',\n",
       " 'id': '0b7fb784-d8b1-4a1a-9575-6fef1b53dc92',\n",
       " 'meta': {'versionId': '1', 'lastUpdated': '2024-06-20T10:45:52.407+00:00'},\n",
       " 'text': {'status': 'generated',\n",
       "  'div': '<div xmlns=\"http://www.w3.org/1999/xhtml\"><h2>hypertensiondisordertest</h2><tt>http://aic/hypertensiondisordertest</tt><p>Test value set for SNOMED hypertension codes</p></div>'},\n",
       " 'url': 'http://aic/hypertensiondisordertest',\n",
       " 'name': 'Hypertensiondisordertest',\n",
       " 'title': 'hypertensiondisordertest',\n",
       " 'status': 'active',\n",
       " 'experimental': True,\n",
       " 'contact': [{'telecom': [{'system': 'email'}]}],\n",
       " 'description': 'Test value set for SNOMED hypertension codes',\n",
       " 'compose': {'include': [{'system': 'http://snomed.info/sct',\n",
       "    'concept': [{'code': '59621000', 'display': 'Essential hypertension'},\n",
       "     {'code': '1201005', 'display': 'Benign essential hypertension'}]}]}}"
      ]
     },
     "metadata": {},
     "output_type": "display_data"
    }
   ],
   "source": [
    "### retrieve a value set by requesting from [endpoint url]/[type]/[id]\n",
    "\n",
    "url = 'https://ontology.onelondon.online/authoring/fhir/ValueSet/0b7fb784-d8b1-4a1a-9575-6fef1b53dc92'\n",
    "\n",
    "headers = {\n",
    "    \"Authorization\": f\"Bearer {access_token}\"\n",
    "}\n",
    "\n",
    "response = requests.get(url, headers=headers)\n",
    "value_set = response.json()\n",
    "\n",
    "display(value_set)"
   ]
  },
  {
   "cell_type": "code",
   "execution_count": 67,
   "metadata": {},
   "outputs": [
    {
     "data": {
      "text/plain": [
       "{'resourceType': 'Bundle',\n",
       " 'id': '1e86aec4-a70c-3df4-8c77-ef5c322833a4',\n",
       " 'meta': {'lastUpdated': '2024-06-20T12:23:43.422+00:00',\n",
       "  'tag': [{'system': 'http://terminology.hl7.org/CodeSystem/v3-ObservationValue',\n",
       "    'code': 'SUBSETTED',\n",
       "    'display': 'Resource encoded in summary mode'}]},\n",
       " 'type': 'searchset',\n",
       " 'total': 1,\n",
       " 'link': [{'relation': 'self',\n",
       "   'url': 'https://ontology.onelondon.online/authoring/fhir/ValueSet/?_summary=true&url=http%3A%2F%2Faic%2Fhypertensiondisordertest'}],\n",
       " 'entry': [{'fullUrl': 'https://ontology.onelondon.online/authoring/fhir/ValueSet/0b7fb784-d8b1-4a1a-9575-6fef1b53dc92',\n",
       "   'resource': {'resourceType': 'ValueSet',\n",
       "    'id': '0b7fb784-d8b1-4a1a-9575-6fef1b53dc92',\n",
       "    'meta': {'versionId': '1',\n",
       "     'lastUpdated': '2024-06-20T10:45:52.407+00:00',\n",
       "     'tag': [{'system': 'http://terminology.hl7.org/CodeSystem/v3-ObservationValue',\n",
       "       'code': 'SUBSETTED',\n",
       "       'display': 'Resource encoded in summary mode'}]},\n",
       "    'url': 'http://aic/hypertensiondisordertest',\n",
       "    'name': 'Hypertensiondisordertest',\n",
       "    'title': 'hypertensiondisordertest',\n",
       "    'status': 'active',\n",
       "    'experimental': True,\n",
       "    'contact': [{'telecom': [{'system': 'email'}]}]}}]}"
      ]
     },
     "metadata": {},
     "output_type": "display_data"
    },
    {
     "data": {
      "text/plain": [
       "{'resourceType': 'ValueSet',\n",
       " 'id': '0b7fb784-d8b1-4a1a-9575-6fef1b53dc92',\n",
       " 'meta': {'versionId': '1', 'lastUpdated': '2024-06-20T10:45:52.407+00:00'},\n",
       " 'text': {'status': 'generated',\n",
       "  'div': '<div xmlns=\"http://www.w3.org/1999/xhtml\"><h2>hypertensiondisordertest</h2><tt>http://aic/hypertensiondisordertest</tt><p>Test value set for SNOMED hypertension codes</p></div>'},\n",
       " 'url': 'http://aic/hypertensiondisordertest',\n",
       " 'name': 'Hypertensiondisordertest',\n",
       " 'title': 'hypertensiondisordertest',\n",
       " 'status': 'active',\n",
       " 'experimental': True,\n",
       " 'contact': [{'telecom': [{'system': 'email'}]}],\n",
       " 'description': 'Test value set for SNOMED hypertension codes',\n",
       " 'compose': {'include': [{'system': 'http://snomed.info/sct',\n",
       "    'concept': [{'code': '59621000', 'display': 'Essential hypertension'},\n",
       "     {'code': '1201005', 'display': 'Benign essential hypertension'}]}]}}"
      ]
     },
     "metadata": {},
     "output_type": "display_data"
    }
   ],
   "source": [
    "### retrieve a value set where the id is unknown, but the canonical url or name are known\n",
    "\n",
    "url = 'https://ontology.onelondon.online/authoring/fhir/ValueSet/?url=http://aic/hypertensiondisordertest'\n",
    "#url = 'https://ontology.onelondon.online/authoring/fhir/ValueSet/?name=Hypertensiondisordertest'\n",
    "\n",
    "headers = {\n",
    "    \"Authorization\": f\"Bearer {access_token}\"\n",
    "}\n",
    "\n",
    "response = requests.get(url, headers=headers)\n",
    "bundle = response.json()\n",
    "display(meta_set)\n",
    "\n",
    "full_url = bundle.get('entry')[0].get('fullUrl')\n",
    "response = requests.get(full_url, headers=headers)\n",
    "value_set = response.json()\n",
    "display(value_set)"
   ]
  },
  {
   "cell_type": "code",
   "execution_count": 71,
   "metadata": {},
   "outputs": [
    {
     "name": "stdout",
     "output_type": "stream",
     "text": [
      "vocabulary: http://snomed.info/sct\n",
      "value set title: hypertensiondisordertest\n",
      "['59621000', '1201005']\n"
     ]
    }
   ],
   "source": [
    "### parse through value set as json to extract required items\n",
    "\n",
    "vocab = value_set.get('compose', {}).get('include', [])[0].get('system')\n",
    "print(f\"vocabulary: {vocab}\")\n",
    "\n",
    "title = value_set.get('title', 'code_list')\n",
    "print(f\"value set title: {title}\")\n",
    "\n",
    "concepts = value_set.get('compose', {}).get('include', [])[0].get('concept')\n",
    "code_list = []\n",
    "for item in concepts:\n",
    "    code_list.append(item.get('code', 'no code listed'))\n",
    "print(code_list)\n"
   ]
  }
 ],
 "metadata": {
  "kernelspec": {
   "display_name": "stats",
   "language": "python",
   "name": "python3"
  },
  "language_info": {
   "codemirror_mode": {
    "name": "ipython",
    "version": 3
   },
   "file_extension": ".py",
   "mimetype": "text/x-python",
   "name": "python",
   "nbconvert_exporter": "python",
   "pygments_lexer": "ipython3",
   "version": "3.11.2"
  }
 },
 "nbformat": 4,
 "nbformat_minor": 2
}
